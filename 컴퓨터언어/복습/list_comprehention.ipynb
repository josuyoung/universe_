{
 "cells": [
  {
   "cell_type": "code",
   "execution_count": 12,
   "id": "d4c75398",
   "metadata": {},
   "outputs": [
    {
     "name": "stdout",
     "output_type": "stream",
     "text": [
      "<class 'list'>\n"
     ]
    }
   ],
   "source": [
    "L = [];\n",
    "print(type(L));"
   ]
  },
  {
   "cell_type": "code",
   "execution_count": 15,
   "id": "d8b9a588",
   "metadata": {},
   "outputs": [],
   "source": [
    "L = [10,20,30];\n"
   ]
  },
  {
   "cell_type": "code",
   "execution_count": 19,
   "id": "fe3d8326",
   "metadata": {},
   "outputs": [
    {
     "data": {
      "text/plain": [
       "['python', 'rules', 'the', 'rule']"
      ]
     },
     "execution_count": 19,
     "metadata": {},
     "output_type": "execute_result"
    }
   ],
   "source": [
    "s = \"python rules the rule\"\n",
    "s.split()\n"
   ]
  },
  {
   "cell_type": "code",
   "execution_count": 20,
   "id": "a375a2fc",
   "metadata": {},
   "outputs": [
    {
     "data": {
      "text/plain": [
       "[10, 20, 30]"
      ]
     },
     "execution_count": 20,
     "metadata": {},
     "output_type": "execute_result"
    }
   ],
   "source": [
    "L\n"
   ]
  },
  {
   "cell_type": "code",
   "execution_count": 21,
   "id": "0d2e27aa",
   "metadata": {},
   "outputs": [],
   "source": [
    "L.append(40)"
   ]
  },
  {
   "cell_type": "code",
   "execution_count": 22,
   "id": "830f5f90",
   "metadata": {},
   "outputs": [
    {
     "data": {
      "text/plain": [
       "[10, 20, 30, 40]"
      ]
     },
     "execution_count": 22,
     "metadata": {},
     "output_type": "execute_result"
    }
   ],
   "source": [
    "L"
   ]
  },
  {
   "cell_type": "code",
   "execution_count": 23,
   "id": "7fbff94e",
   "metadata": {},
   "outputs": [
    {
     "data": {
      "text/plain": [
       "[1.0,\n",
       " 0.5,\n",
       " 0.3333333333333333,\n",
       " 0.25,\n",
       " 0.2,\n",
       " 0.16666666666666666,\n",
       " 0.14285714285714285,\n",
       " 0.125,\n",
       " 0.1111111111111111,\n",
       " 0.1]"
      ]
     },
     "execution_count": 23,
     "metadata": {},
     "output_type": "execute_result"
    }
   ],
   "source": [
    "L = []\n",
    "for i in range(1,11):\n",
    "    L.append(1/i)\n",
    "L"
   ]
  },
  {
   "cell_type": "code",
   "execution_count": 24,
   "id": "7baa8bbc",
   "metadata": {},
   "outputs": [
    {
     "data": {
      "text/plain": [
       "2.9289682539682538"
      ]
     },
     "execution_count": 24,
     "metadata": {},
     "output_type": "execute_result"
    }
   ],
   "source": [
    "acc = 0.0\n",
    "for ele in L:\n",
    "    acc += ele\n",
    "acc"
   ]
  },
  {
   "cell_type": "code",
   "execution_count": 25,
   "id": "b9124d26",
   "metadata": {},
   "outputs": [
    {
     "data": {
      "text/plain": [
       "2.9289682539682538"
      ]
     },
     "execution_count": 25,
     "metadata": {},
     "output_type": "execute_result"
    }
   ],
   "source": [
    "sum(L)"
   ]
  },
  {
   "cell_type": "code",
   "execution_count": 26,
   "id": "49cc7604",
   "metadata": {},
   "outputs": [
    {
     "data": {
      "text/plain": [
       "[1.0,\n",
       " 1.5,\n",
       " 1.8333333333333333,\n",
       " 2.083333333333333,\n",
       " 2.283333333333333,\n",
       " 2.4499999999999997,\n",
       " 2.5928571428571425,\n",
       " 2.7178571428571425,\n",
       " 2.8289682539682537,\n",
       " 2.9289682539682538]"
      ]
     },
     "execution_count": 26,
     "metadata": {},
     "output_type": "execute_result"
    }
   ],
   "source": [
    "acc = 0.0\n",
    "L = []\n",
    "for i in range(1,11):\n",
    "    acc += 1/i\n",
    "    L.append(acc)\n",
    "L"
   ]
  },
  {
   "cell_type": "markdown",
   "id": "8feb5a66",
   "metadata": {},
   "source": [
    "## 리스트 내장(list comprehension)"
   ]
  },
  {
   "cell_type": "code",
   "execution_count": null,
   "id": "4979cc7e",
   "metadata": {},
   "outputs": [],
   "source": [
    "L = []\n",
    "for i in range(1,11):\n",
    "    L.append(1/i)"
   ]
  },
  {
   "cell_type": "code",
   "execution_count": 29,
   "id": "c07bbf88",
   "metadata": {},
   "outputs": [],
   "source": [
    "L = [1/i for i in range(1,11)]\n",
    "# 위에 세줄과 동일 하다"
   ]
  },
  {
   "cell_type": "code",
   "execution_count": 53,
   "id": "3c1c6af3",
   "metadata": {},
   "outputs": [
    {
     "data": {
      "text/plain": [
       "['ALICE', 'WAS', 'BEGINNING', 'TO', 'GET', '...']"
      ]
     },
     "execution_count": 53,
     "metadata": {},
     "output_type": "execute_result"
    }
   ],
   "source": [
    "L = [\"Alice\",\"was\",\"beginning\",\"to\",\"get\",\"...\"]\n",
    "res = []\n",
    " \n",
    "\n",
    "# for w in L:\n",
    "#     res.append(w.upper())\n",
    "# res\n",
    "\n",
    "[w.upper()  for w in  [\"Alice\",\"was\",\"beginning\",\"to\",\"get\",\"...\"]]\n"
   ]
  },
  {
   "cell_type": "code",
   "execution_count": 55,
   "id": "d40c9db7",
   "metadata": {},
   "outputs": [
    {
     "data": {
      "text/plain": [
       "['ALICE', 'WAS', 'BEGINNING', 'TO', 'GET']"
      ]
     },
     "execution_count": 55,
     "metadata": {},
     "output_type": "execute_result"
    }
   ],
   "source": [
    "L = [\"    Alice   \",\"   was   \",\"\" ,\"   beginning  \",\"to  \",\"get   \",\"   \"]\n",
    "[w.strip().upper() for w in L if w.strip()]"
   ]
  },
  {
   "cell_type": "code",
   "execution_count": 78,
   "id": "3ba388e4",
   "metadata": {},
   "outputs": [
    {
     "data": {
      "text/plain": [
       "'기온(c)풍속(m/s)감수량(mm)'"
      ]
     },
     "execution_count": 78,
     "metadata": {},
     "output_type": "execute_result"
    }
   ],
   "source": [
    "s = \"기온(c)\"\n",
    "\"\".join([c for c in s if '가'<= c <= '힣'])\n",
    "\n"
   ]
  },
  {
   "cell_type": "code",
   "execution_count": 114,
   "id": "0894c3eb",
   "metadata": {},
   "outputs": [],
   "source": [
    "name = [\"기온(c)\",\"풍속(m/s) \",\"감수량(mm)\"]\n",
    "res = []\n",
    "for s in name:\n",
    "    for names in s:\n",
    "        if '가' <= names <='힣' or names == ' ':\n",
    "            res.append(names)\n",
    "res = ''.join(res)\n",
    "\n"
   ]
  },
  {
   "cell_type": "code",
   "execution_count": null,
   "id": "292863d3",
   "metadata": {},
   "outputs": [],
   "source": [
    "\n"
   ]
  },
  {
   "cell_type": "code",
   "execution_count": 19,
   "id": "33f38d35",
   "metadata": {},
   "outputs": [
    {
     "name": "stdout",
     "output_type": "stream",
     "text": [
      "기온\n",
      "풍속\n",
      "감수량\n",
      "현지기압\n"
     ]
    }
   ],
   "source": [
    "def HangeulOnly(s):\n",
    "    return ''.join([c for c in s  if '가' <= c <='힣'])\n",
    "\n",
    "Name = [\"기온(c)\",\"풍속(m/s)\",\"감수량(mm)\",\"현지기압(HPA)\"]\n",
    "for s in Name:\n",
    "    print(HangeulOnly(s))    \n",
    "\n",
    "\n",
    "    "
   ]
  },
  {
   "cell_type": "code",
   "execution_count": null,
   "id": "cd379b78",
   "metadata": {},
   "outputs": [],
   "source": []
  },
  {
   "cell_type": "code",
   "execution_count": 27,
   "id": "3a954e42",
   "metadata": {},
   "outputs": [
    {
     "name": "stdout",
     "output_type": "stream",
     "text": [
      "   Hot water isnt coming out\n"
     ]
    }
   ],
   "source": [
    "def OnlyEng(s):\n",
    "    return ''.join([c for c in name if  ('a' <= c <= 'z') or ('A'<=c<='Z')or c == ' ' ])\n",
    "\n",
    "name = \"스피킹이 강해지는 영어] Hot water isn’t coming out.\"\n",
    "print(OnlyEng(name))\n"
   ]
  },
  {
   "cell_type": "code",
   "execution_count": null,
   "id": "a02e69ac",
   "metadata": {},
   "outputs": [],
   "source": []
  },
  {
   "cell_type": "code",
   "execution_count": null,
   "id": "69ce8ee9",
   "metadata": {},
   "outputs": [],
   "source": []
  }
 ],
 "metadata": {
  "kernelspec": {
   "display_name": "Python 3",
   "language": "python",
   "name": "python3"
  },
  "language_info": {
   "codemirror_mode": {
    "name": "ipython",
    "version": 3
   },
   "file_extension": ".py",
   "mimetype": "text/x-python",
   "name": "python",
   "nbconvert_exporter": "python",
   "pygments_lexer": "ipython3",
   "version": "3.8.8"
  }
 },
 "nbformat": 4,
 "nbformat_minor": 5
}
