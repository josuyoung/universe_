{
 "cells": [
  {
   "cell_type": "markdown",
   "id": "4ea8f824",
   "metadata": {},
   "source": [
    "### 문자열 통계처리 (소설이 궁긍해)\n"
   ]
  },
  {
   "cell_type": "code",
   "execution_count": 2,
   "id": "24b43e24",
   "metadata": {},
   "outputs": [],
   "source": [
    "import requests"
   ]
  },
  {
   "cell_type": "code",
   "execution_count": 4,
   "id": "021e9c03",
   "metadata": {},
   "outputs": [],
   "source": [
    "url = 'http://websites.umich.edu/~umfandsf/other/ebooks/alice30.txt'\n",
    "r = requests.get(url)"
   ]
  },
  {
   "cell_type": "code",
   "execution_count": 7,
   "id": "415117ab",
   "metadata": {},
   "outputs": [
    {
     "name": "stdout",
     "output_type": "stream",
     "text": [
      "                ALICE'S ADVENTURES IN WONDERLAND\n",
      "\n",
      "                          Lewis Carroll\n",
      "\n",
      "               THE MILLENNIUM FULCRUM EDITION 3.0\n",
      "\n",
      "\n",
      "\n",
      "\n",
      "                            CHAPTER I\n",
      "\n",
      "                \n"
     ]
    }
   ],
   "source": [
    "print(r.text[:200])"
   ]
  },
  {
   "cell_type": "markdown",
   "id": "9169a1b1",
   "metadata": {},
   "source": [
    "몇글자로 되어 있을까?\n"
   ]
  },
  {
   "cell_type": "code",
   "execution_count": 10,
   "id": "dd16840f",
   "metadata": {},
   "outputs": [
    {
     "data": {
      "text/plain": [
       "148545"
      ]
     },
     "execution_count": 10,
     "metadata": {},
     "output_type": "execute_result"
    }
   ],
   "source": [
    "text = r.text\n",
    "len(text)"
   ]
  },
  {
   "cell_type": "code",
   "execution_count": 19,
   "id": "6bc6a711",
   "metadata": {},
   "outputs": [
    {
     "data": {
      "text/plain": [
       "107717"
      ]
     },
     "execution_count": 19,
     "metadata": {},
     "output_type": "execute_result"
    }
   ],
   "source": [
    "import re\n",
    "len(re.sub('[^a-zA-Z]', '',text))"
   ]
  },
  {
   "cell_type": "markdown",
   "id": "0655ba5d",
   "metadata": {},
   "source": [
    "2. 각 알파벳의 사용빈도"
   ]
  },
  {
   "cell_type": "code",
   "execution_count": 20,
   "id": "fc7416e1",
   "metadata": {},
   "outputs": [],
   "source": [
    "text1 = text.upper()"
   ]
  },
  {
   "cell_type": "code",
   "execution_count": 21,
   "id": "c30f15a9",
   "metadata": {},
   "outputs": [
    {
     "data": {
      "text/plain": [
       "8791"
      ]
     },
     "execution_count": 21,
     "metadata": {},
     "output_type": "execute_result"
    }
   ],
   "source": [
    "text1.count('A')"
   ]
  },
  {
   "cell_type": "code",
   "execution_count": 25,
   "id": "cbea0006",
   "metadata": {},
   "outputs": [
    {
     "name": "stdout",
     "output_type": "stream",
     "text": [
      "A 8791\n",
      "B 1475\n",
      "C 2399\n",
      "D 4931\n",
      "E 13574\n",
      "F 2001\n",
      "G 2531\n",
      "H 7374\n",
      "I 7514\n",
      "J 146\n",
      "K 1158\n",
      "L 4716\n",
      "M 2107\n",
      "N 7016\n",
      "O 8146\n",
      "P 1524\n",
      "Q 209\n",
      "R 5437\n",
      "S 6500\n",
      "T 10689\n",
      "U 3468\n",
      "V 846\n",
      "W 2675\n",
      "X 148\n",
      "Y 2264\n",
      "Z 78\n"
     ]
    }
   ],
   "source": [
    "for c in 'ABCDEFGHIJKLMNOPQRSTUVWXYZ':\n",
    "    print(c, text1.count(c))"
   ]
  },
  {
   "cell_type": "code",
   "execution_count": 26,
   "id": "49d7a82b",
   "metadata": {},
   "outputs": [
    {
     "name": "stdout",
     "output_type": "stream",
     "text": [
      "A 8791\n",
      "B 1475\n",
      "C 2399\n",
      "D 4931\n",
      "E 13574\n",
      "F 2001\n",
      "G 2531\n",
      "H 7374\n",
      "I 7514\n",
      "J 146\n",
      "K 1158\n",
      "L 4716\n",
      "M 2107\n",
      "N 7016\n",
      "O 8146\n",
      "P 1524\n",
      "Q 209\n",
      "R 5437\n",
      "S 6500\n",
      "T 10689\n",
      "U 3468\n",
      "V 846\n",
      "W 2675\n",
      "X 148\n",
      "Y 2264\n",
      "Z 78\n"
     ]
    }
   ],
   "source": [
    "import string\n",
    "\n",
    "for c in string.ascii_uppercase:    #대문자를 모아놈\n",
    "    print(c, text1.count(c))         #문자별로 출력"
   ]
  },
  {
   "cell_type": "code",
   "execution_count": 27,
   "id": "cb8f9088",
   "metadata": {},
   "outputs": [
    {
     "data": {
      "text/plain": [
       "65"
      ]
     },
     "execution_count": 27,
     "metadata": {},
     "output_type": "execute_result"
    }
   ],
   "source": [
    "ord('A')"
   ]
  },
  {
   "cell_type": "code",
   "execution_count": 28,
   "id": "42a8f54e",
   "metadata": {},
   "outputs": [
    {
     "data": {
      "text/plain": [
       "'A'"
      ]
     },
     "execution_count": 28,
     "metadata": {},
     "output_type": "execute_result"
    }
   ],
   "source": [
    "chr(65)"
   ]
  },
  {
   "cell_type": "code",
   "execution_count": 36,
   "id": "0e175c64",
   "metadata": {},
   "outputs": [
    {
     "name": "stdout",
     "output_type": "stream",
     "text": [
      "8791\n",
      "1475\n",
      "2399\n",
      "4931\n",
      "13574\n",
      "2001\n",
      "2531\n",
      "7374\n",
      "7514\n",
      "146\n",
      "1158\n",
      "4716\n",
      "2107\n",
      "7016\n",
      "8146\n",
      "1524\n",
      "209\n",
      "5437\n",
      "6500\n",
      "10689\n",
      "3468\n",
      "846\n",
      "2675\n",
      "148\n",
      "2264\n",
      "78\n"
     ]
    }
   ],
   "source": [
    "for i in range(ord('A'),ord('Z')+1):\n",
    " \n",
    "    print(text1.count(chr(i)))"
   ]
  },
  {
   "cell_type": "markdown",
   "id": "7d74c6bb",
   "metadata": {},
   "source": [
    "3. 인쇄된 단어의 수가 몇개일까?"
   ]
  },
  {
   "cell_type": "code",
   "execution_count": 38,
   "id": "ec3be5e4",
   "metadata": {},
   "outputs": [
    {
     "data": {
      "text/plain": [
       "[\"ALICE'S\",\n",
       " 'ADVENTURES',\n",
       " 'IN',\n",
       " 'WONDERLAND',\n",
       " 'Lewis',\n",
       " 'Carroll',\n",
       " 'THE',\n",
       " 'MILLENNIUM',\n",
       " 'FULCRUM',\n",
       " 'EDITION',\n",
       " '3.0',\n",
       " 'CHAPTER',\n",
       " 'I',\n",
       " 'Down',\n",
       " 'the',\n",
       " 'Rabbit-Hole',\n",
       " 'Alice',\n",
       " 'was',\n",
       " 'beginning',\n",
       " 'to']"
      ]
     },
     "execution_count": 38,
     "metadata": {},
     "output_type": "execute_result"
    }
   ],
   "source": [
    "len(text.split())\n",
    "text.split()[:20]"
   ]
  },
  {
   "cell_type": "markdown",
   "id": "45a34733",
   "metadata": {},
   "source": [
    "4.몇개의 단어로 소설을 썻을까?"
   ]
  },
  {
   "cell_type": "code",
   "execution_count": 39,
   "id": "800a86db",
   "metadata": {},
   "outputs": [],
   "source": [
    "text_upper = text.upper()"
   ]
  },
  {
   "cell_type": "code",
   "execution_count": 41,
   "id": "87eb20c0",
   "metadata": {},
   "outputs": [],
   "source": [
    "text_alpha = re.sub('[^a-zA-Z]',' ',text_upper) #알파벳이 아닐 때 빈칸으로 대체 하여 특수문자를 짤라버림"
   ]
  },
  {
   "cell_type": "code",
   "execution_count": 44,
   "id": "f2a6ba29",
   "metadata": {},
   "outputs": [],
   "source": [
    "ws = text_alpha.split()   #단어저장"
   ]
  },
  {
   "cell_type": "code",
   "execution_count": 45,
   "id": "79c7210a",
   "metadata": {},
   "outputs": [
    {
     "data": {
      "text/plain": [
       "27342"
      ]
     },
     "execution_count": 45,
     "metadata": {},
     "output_type": "execute_result"
    }
   ],
   "source": [
    "len(ws)"
   ]
  },
  {
   "cell_type": "code",
   "execution_count": 47,
   "id": "ecc51d20",
   "metadata": {},
   "outputs": [
    {
     "data": {
      "text/plain": [
       "2576"
      ]
     },
     "execution_count": 47,
     "metadata": {},
     "output_type": "execute_result"
    }
   ],
   "source": [
    "len(set(ws)) #2500단어 정도로 소설을 쓴것이다."
   ]
  },
  {
   "cell_type": "code",
   "execution_count": 48,
   "id": "5bad9142",
   "metadata": {},
   "outputs": [],
   "source": [
    "ws1 = set(ws)"
   ]
  },
  {
   "cell_type": "code",
   "execution_count": 52,
   "id": "4f0bf9c3",
   "metadata": {},
   "outputs": [],
   "source": [
    "remove_list = ['S','T','VE'] #단어 아닌 것들을 모음\n",
    "for ele in remove_list: # 빠른 for문\n",
    "    ws1.remove(ele)     # 그것들을 삭제"
   ]
  },
  {
   "cell_type": "code",
   "execution_count": 56,
   "id": "66144304",
   "metadata": {},
   "outputs": [
    {
     "data": {
      "text/plain": [
       "2573"
      ]
     },
     "execution_count": 56,
     "metadata": {},
     "output_type": "execute_result"
    }
   ],
   "source": [
    "len(ws1)"
   ]
  },
  {
   "cell_type": "markdown",
   "id": "a79dbab0",
   "metadata": {},
   "source": [
    "5. 가장 빈도수가 높은 단어 목록 20개"
   ]
  },
  {
   "cell_type": "code",
   "execution_count": 65,
   "id": "f45d4bb9",
   "metadata": {},
   "outputs": [
    {
     "data": {
      "text/plain": [
       "202"
      ]
     },
     "execution_count": 65,
     "metadata": {},
     "output_type": "execute_result"
    }
   ],
   "source": [
    "\n",
    "from collections import Counter\n",
    "\n",
    "#Counter([1,1,1,1,2,2,2,3,2,3,3,10,10])  # 리스트로 넘기면 딕셔너리 형태로 뭐가 몇번 사용 됐는지 알려줌\n",
    "ws.count('S')\n"
   ]
  },
  {
   "cell_type": "code",
   "execution_count": 75,
   "id": "7396024a",
   "metadata": {},
   "outputs": [
    {
     "data": {
      "text/plain": [
       "0"
      ]
     },
     "execution_count": 75,
     "metadata": {},
     "output_type": "execute_result"
    }
   ],
   "source": [
    "# ws.remove('S')\n",
    "ws.count('S')\n",
    "# for ele in range(ws.count('S')):\n",
    "#     ws.remove('S')\n",
    "for ch in ['S','T','VE']: #제거할 단어 목록\n",
    "    while ch in ws:\n",
    "        ws.remove(ch)\n",
    "ws.count('S')"
   ]
  },
  {
   "cell_type": "code",
   "execution_count": 90,
   "id": "20050f89",
   "metadata": {},
   "outputs": [
    {
     "data": {
      "text/plain": [
       "[('THE', 1642),\n",
       " ('AND', 872),\n",
       " ('TO', 729),\n",
       " ('A', 632),\n",
       " ('IT', 595),\n",
       " ('SHE', 553),\n",
       " ('I', 545),\n",
       " ('SAID', 462),\n",
       " ('YOU', 411),\n",
       " ('ALICE', 398),\n",
       " ('IN', 369),\n",
       " ('WAS', 357),\n",
       " ('THAT', 315),\n",
       " ('HER', 248),\n",
       " ('ON', 193),\n",
       " ('ALL', 182),\n",
       " ('WITH', 180),\n",
       " ('HAD', 178),\n",
       " ('BUT', 170),\n",
       " ('FOR', 153)]"
      ]
     },
     "execution_count": 90,
     "metadata": {},
     "output_type": "execute_result"
    }
   ],
   "source": [
    "c = Counter(ws)  #split으로 했으니 컬렉션 형태 일 태니 그거 넘겨주면 끝\n",
    "c.most_common(20) #common은 가장 많이사용된 것들을 20개 추린 것\n",
    "\n",
    "for w in ['AS','AT','OF']:\n",
    "    del c[w]\n",
    "c.most_common(20)"
   ]
  },
  {
   "cell_type": "code",
   "execution_count": 85,
   "id": "aeceb582",
   "metadata": {},
   "outputs": [
    {
     "data": {
      "text/plain": [
       "[('THE', 1642),\n",
       " ('AND', 872),\n",
       " ('TO', 729),\n",
       " ('A', 632),\n",
       " ('IT', 595),\n",
       " ('SHE', 553),\n",
       " ('I', 545),\n",
       " ('OF', 514),\n",
       " ('SAID', 462),\n",
       " ('YOU', 411),\n",
       " ('ALICE', 398),\n",
       " ('IN', 369),\n",
       " ('WAS', 357),\n",
       " ('THAT', 315),\n",
       " ('AS', 263),\n",
       " ('HER', 248),\n",
       " ('AT', 212),\n",
       " ('ALL', 182),\n",
       " ('WITH', 180),\n",
       " ('HAD', 178)]"
      ]
     },
     "execution_count": 85,
     "metadata": {},
     "output_type": "execute_result"
    }
   ],
   "source": [
    "del c['ON']\n",
    "c.most_common(20)"
   ]
  },
  {
   "cell_type": "code",
   "execution_count": 95,
   "id": "9757d703",
   "metadata": {},
   "outputs": [],
   "source": [
    "c_alpha = Counter(text_alpha)"
   ]
  },
  {
   "cell_type": "code",
   "execution_count": 97,
   "id": "39716e74",
   "metadata": {},
   "outputs": [
    {
     "data": {
      "text/plain": [
       "Counter({'A': 8791,\n",
       "         'L': 4716,\n",
       "         'I': 7514,\n",
       "         'C': 2399,\n",
       "         'E': 13574,\n",
       "         'S': 6500,\n",
       "         'D': 4931,\n",
       "         'V': 846,\n",
       "         'N': 7016,\n",
       "         'T': 10689,\n",
       "         'U': 3468,\n",
       "         'R': 5437,\n",
       "         'W': 2675,\n",
       "         'O': 8146,\n",
       "         'H': 7374,\n",
       "         'M': 2107,\n",
       "         'F': 2001,\n",
       "         'P': 1524,\n",
       "         'B': 1475,\n",
       "         'G': 2531,\n",
       "         'Y': 2264,\n",
       "         'K': 1158,\n",
       "         'Q': 209,\n",
       "         'J': 146,\n",
       "         'X': 148,\n",
       "         'Z': 78})"
      ]
     },
     "execution_count": 97,
     "metadata": {},
     "output_type": "execute_result"
    }
   ],
   "source": [
    "del c_alpha[' ']\n",
    "c_alpha"
   ]
  },
  {
   "cell_type": "markdown",
   "id": "ded52827",
   "metadata": {},
   "source": [
    "6. 그래프 그리기"
   ]
  },
  {
   "cell_type": "code",
   "execution_count": 98,
   "id": "8fcea5bb",
   "metadata": {},
   "outputs": [],
   "source": [
    "import matplotlib.pyplot as plt"
   ]
  },
  {
   "cell_type": "code",
   "execution_count": 100,
   "id": "2f916548",
   "metadata": {},
   "outputs": [
    {
     "data": {
      "text/plain": [
       "<BarContainer object of 2 artists>"
      ]
     },
     "execution_count": 100,
     "metadata": {},
     "output_type": "execute_result"
    },
    {
     "data": {
      "image/png": "[encoded data removed]",
      "text/plain": [
       "<Figure size 432x288 with 1 Axes>"
      ]
     },
     "metadata": {
      "needs_background": "light"
     },
     "output_type": "display_data"
    }
   ],
   "source": [
    "plt.bar(['A','B'],[8791,1475])"
   ]
  },
  {
   "cell_type": "code",
   "execution_count": 101,
   "id": "33a0085e",
   "metadata": {},
   "outputs": [
    {
     "data": {
      "text/plain": [
       "<BarContainer object of 26 artists>"
      ]
     },
     "execution_count": 101,
     "metadata": {},
     "output_type": "execute_result"
    },
    {
     "data": {
      "image/png": "[encoded data removed]",
      "text/plain": [
       "<Figure size 432x288 with 1 Axes>"
      ]
     },
     "metadata": {
      "needs_background": "light"
     },
     "output_type": "display_data"
    }
   ],
   "source": [
    "plt.bar(c_alpha.keys(),c_alpha.values())"
   ]
  },
  {
   "cell_type": "code",
   "execution_count": 105,
   "id": "40d42b1b",
   "metadata": {},
   "outputs": [
    {
     "data": {
      "text/plain": [
       "[('A', 8791),\n",
       " ('B', 1475),\n",
       " ('C', 2399),\n",
       " ('D', 4931),\n",
       " ('E', 13574),\n",
       " ('F', 2001),\n",
       " ('G', 2531),\n",
       " ('H', 7374),\n",
       " ('I', 7514),\n",
       " ('J', 146),\n",
       " ('K', 1158),\n",
       " ('L', 4716),\n",
       " ('M', 2107),\n",
       " ('N', 7016),\n",
       " ('O', 8146),\n",
       " ('P', 1524),\n",
       " ('Q', 209),\n",
       " ('R', 5437),\n",
       " ('S', 6500),\n",
       " ('T', 10689),\n",
       " ('U', 3468),\n",
       " ('V', 846),\n",
       " ('W', 2675),\n",
       " ('X', 148),\n",
       " ('Y', 2264),\n",
       " ('Z', 78)]"
      ]
     },
     "execution_count": 105,
     "metadata": {},
     "output_type": "execute_result"
    }
   ],
   "source": [
    "sorted(c_alpha.items())"
   ]
  },
  {
   "cell_type": "code",
   "execution_count": 108,
   "id": "b093bbe8",
   "metadata": {},
   "outputs": [
    {
     "data": {
      "text/plain": [
       "[2, 4, 7, 7, 7, 8, 21]"
      ]
     },
     "execution_count": 108,
     "metadata": {},
     "output_type": "execute_result"
    }
   ],
   "source": [
    "list(zip(c_alpha))"
   ]
  },
  {
   "cell_type": "code",
   "execution_count": 110,
   "id": "4084d24b",
   "metadata": {},
   "outputs": [
    {
     "data": {
      "text/plain": [
       "[(1, 'one'), (2, 'two'), (3, 'three')]"
      ]
     },
     "execution_count": 110,
     "metadata": {},
     "output_type": "execute_result"
    }
   ],
   "source": [
    "list(zip([1,2,3],['one','two','three']))  # 해당 인덱스 끼리 튜플로 묶어줌"
   ]
  },
  {
   "cell_type": "code",
   "execution_count": 115,
   "id": "bb1f1e57",
   "metadata": {},
   "outputs": [
    {
     "data": {
      "text/plain": [
       "[(1, 2, 3), ('one', 'two', 'three')]"
      ]
     },
     "execution_count": 115,
     "metadata": {},
     "output_type": "execute_result"
    }
   ],
   "source": [
    "L = [(1, 'one'), (2, 'two'), (3, 'three')]\n",
    "list(zip(*L))"
   ]
  },
  {
   "cell_type": "code",
   "execution_count": null,
   "id": "3b7d6f46",
   "metadata": {},
   "outputs": [],
   "source": [
    "symbols , counts = list(zip(*sorted(c_alpha.items())))\n",
    "plt.bar(symbols,counts)"
   ]
  },
  {
   "cell_type": "code",
   "execution_count": 130,
   "id": "bf673a3f",
   "metadata": {},
   "outputs": [
    {
     "ename": "AttributeError",
     "evalue": "'BarContainer' object has no attribute 'grid'",
     "output_type": "error",
     "traceback": [
      "\u001b[1;31m---------------------------------------------------------------------------\u001b[0m",
      "\u001b[1;31mAttributeError\u001b[0m                            Traceback (most recent call last)",
      "\u001b[1;32m<ipython-input-130-e6dcccd98ac5>\u001b[0m in \u001b[0;36m<module>\u001b[1;34m\u001b[0m\n\u001b[0;32m      1\u001b[0m \u001b[0msymbols\u001b[0m \u001b[1;33m,\u001b[0m\u001b[0mcounts\u001b[0m \u001b[1;33m=\u001b[0m \u001b[0mlist\u001b[0m\u001b[1;33m(\u001b[0m\u001b[0mzip\u001b[0m\u001b[1;33m(\u001b[0m\u001b[1;33m*\u001b[0m\u001b[0msorted\u001b[0m\u001b[1;33m(\u001b[0m\u001b[0mc_alpha\u001b[0m\u001b[1;33m.\u001b[0m\u001b[0mitems\u001b[0m\u001b[1;33m(\u001b[0m\u001b[1;33m)\u001b[0m\u001b[1;33m,\u001b[0m\u001b[0mkey\u001b[0m\u001b[1;33m=\u001b[0m\u001b[1;32mlambda\u001b[0m \u001b[0me\u001b[0m\u001b[1;33m:\u001b[0m\u001b[0me\u001b[0m\u001b[1;33m[\u001b[0m\u001b[1;36m1\u001b[0m\u001b[1;33m]\u001b[0m\u001b[1;33m,\u001b[0m \u001b[0mreverse\u001b[0m \u001b[1;33m=\u001b[0m\u001b[1;32mTrue\u001b[0m\u001b[1;33m)\u001b[0m\u001b[1;33m)\u001b[0m\u001b[1;33m)\u001b[0m\u001b[1;33m\u001b[0m\u001b[1;33m\u001b[0m\u001b[0m\n\u001b[0;32m      2\u001b[0m \u001b[0max\u001b[0m \u001b[1;33m=\u001b[0m \u001b[0mplt\u001b[0m\u001b[1;33m.\u001b[0m\u001b[0mbar\u001b[0m\u001b[1;33m(\u001b[0m\u001b[0msymbols\u001b[0m\u001b[1;33m,\u001b[0m\u001b[0mcounts\u001b[0m\u001b[1;33m)\u001b[0m\u001b[1;33m\u001b[0m\u001b[1;33m\u001b[0m\u001b[0m\n\u001b[1;32m----> 3\u001b[1;33m \u001b[0max\u001b[0m\u001b[1;33m.\u001b[0m\u001b[0mgrid\u001b[0m\u001b[1;33m(\u001b[0m\u001b[1;33m)\u001b[0m\u001b[1;33m\u001b[0m\u001b[1;33m\u001b[0m\u001b[0m\n\u001b[0m",
      "\u001b[1;31mAttributeError\u001b[0m: 'BarContainer' object has no attribute 'grid'"
     ]
    },
    {
     "data": {
      "image/png": "[encoded data removed]",
      "text/plain": [
       "<Figure size 432x288 with 1 Axes>"
      ]
     },
     "metadata": {
      "needs_background": "light"
     },
     "output_type": "display_data"
    }
   ],
   "source": [
    "symbols ,counts = list(zip(*sorted(c_alpha.items(),key=lambda e:e[1], reverse =True)))\n",
    "ax = plt.bar(symbols,counts)\n",
    "ax.grid()"
   ]
  },
  {
   "cell_type": "code",
   "execution_count": 138,
   "id": "df45ee0a",
   "metadata": {},
   "outputs": [
    {
     "data": {
      "image/png": "[encoded data removed]",
      "text/plain": [
       "<Figure size 1152x576 with 1 Axes>"
      ]
     },
     "metadata": {
      "needs_background": "light"
     },
     "output_type": "display_data"
    }
   ],
   "source": [
    "import numpy as np\n",
    "\n",
    "per = np.array(counts)/ sum(counts)\n",
    "plt.subplots(figsize = (16,8))\n",
    "plt.bar(symbols,per)\n",
    "plt.grid()"
   ]
  },
  {
   "cell_type": "code",
   "execution_count": 140,
   "id": "2483a1e1",
   "metadata": {},
   "outputs": [
    {
     "data": {
      "text/plain": [
       "{'E': 0.12601539218507757,\n",
       " 'T': 0.0992322474632602,\n",
       " 'A': 0.0816120018195828,\n",
       " 'O': 0.07562408904815396,\n",
       " 'I': 0.06975686289072291,\n",
       " 'H': 0.06845716089382363,\n",
       " 'N': 0.06513363721603832,\n",
       " 'S': 0.06034330699889525,\n",
       " 'R': 0.050474855408152844,\n",
       " 'D': 0.045777361047931155,\n",
       " 'L': 0.04378139012412154,\n",
       " 'U': 0.03219547518033365,\n",
       " 'W': 0.024833591726468433,\n",
       " 'G': 0.023496755386800596,\n",
       " 'C': 0.02227132207543842,\n",
       " 'Y': 0.021018038006999824,\n",
       " 'M': 0.0195605150533342,\n",
       " 'F': 0.018576454969967602,\n",
       " 'P': 0.014148184594817903,\n",
       " 'B': 0.013693288895903153,\n",
       " 'K': 0.010750392231495492,\n",
       " 'V': 0.007853913495548521,\n",
       " 'Q': 0.0019402694096567858,\n",
       " 'X': 0.0013739706824363843,\n",
       " 'J': 0.0013554035110521089,\n",
       " 'Z': 0.0007241196839867431}"
      ]
     },
     "execution_count": 140,
     "metadata": {},
     "output_type": "execute_result"
    }
   ],
   "source": [
    "dict(zip(symbols,per))"
   ]
  },
  {
   "cell_type": "code",
   "execution_count": 158,
   "id": "1cfc76e0",
   "metadata": {},
   "outputs": [],
   "source": [
    "data = sorted(c.items(), key =lambda e:e[1],reverse=True)[:20]"
   ]
  },
  {
   "cell_type": "code",
   "execution_count": 163,
   "id": "dbcabc6a",
   "metadata": {},
   "outputs": [
    {
     "data": {
      "text/plain": [
       "<BarContainer object of 20 artists>"
      ]
     },
     "execution_count": 163,
     "metadata": {},
     "output_type": "execute_result"
    },
    {
     "data": {
      "image/png": "[encoded data removed]",
      "text/plain": [
       "<Figure size 1152x720 with 1 Axes>"
      ]
     },
     "metadata": {
      "needs_background": "light"
     },
     "output_type": "display_data"
    }
   ],
   "source": [
    "plt.subplots(figsize= (16,10))\n",
    "symbols , counts = list(zip(*data))\n",
    "plt.bar(symbols,counts)"
   ]
  },
  {
   "cell_type": "code",
   "execution_count": null,
   "id": "414924f0",
   "metadata": {},
   "outputs": [],
   "source": []
  }
 ],
 "metadata": {
  "kernelspec": {
   "display_name": "Python 3",
   "language": "python",
   "name": "python3"
  },
  "language_info": {
   "codemirror_mode": {
    "name": "ipython",
    "version": 3
   },
   "file_extension": ".py",
   "mimetype": "text/x-python",
   "name": "python",
   "nbconvert_exporter": "python",
   "pygments_lexer": "ipython3",
   "version": "3.8.8"
  }
 },
 "nbformat": 4,
 "nbformat_minor": 5
}
