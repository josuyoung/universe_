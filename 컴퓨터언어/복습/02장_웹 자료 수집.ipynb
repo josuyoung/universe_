{
 "cells": [
  {
   "cell_type": "code",
   "execution_count": null,
   "metadata": {
    "collapsed": true,
    "scrolled": true
   },
   "outputs": [],
   "source": [
    "!pip install requests\n",
    "!pip install beautifulsoup4\n",
    "# !는 노트북용이래요"
   ]
  },
  {
   "cell_type": "code",
   "execution_count": 1,
   "metadata": {
    "scrolled": true
   },
   "outputs": [],
   "source": [
    "import requests"
   ]
  },
  {
   "cell_type": "code",
   "execution_count": 2,
   "metadata": {
    "scrolled": true
   },
   "outputs": [],
   "source": [
    "url = 'http://naver.com'\n",
    "r = requests.get(url)"
   ]
  },
  {
   "cell_type": "code",
   "execution_count": 3,
   "metadata": {},
   "outputs": [
    {
     "data": {
      "text/plain": [
       "<Response [200]>"
      ]
     },
     "execution_count": 3,
     "metadata": {},
     "output_type": "execute_result"
    }
   ],
   "source": [
    "r"
   ]
  },
  {
   "cell_type": "code",
   "execution_count": 4,
   "metadata": {
    "scrolled": true
   },
   "outputs": [
    {
     "data": {
      "text/plain": [
       "requests.models.Response"
      ]
     },
     "execution_count": 4,
     "metadata": {},
     "output_type": "execute_result"
    }
   ],
   "source": [
    "type(r)"
   ]
  },
  {
   "cell_type": "code",
   "execution_count": 5,
   "metadata": {
    "scrolled": true
   },
   "outputs": [
    {
     "data": {
      "text/plain": [
       "200"
      ]
     },
     "execution_count": 5,
     "metadata": {},
     "output_type": "execute_result"
    }
   ],
   "source": [
    "r.status_code"
   ]
  },
  {
   "cell_type": "code",
   "execution_count": 6,
   "metadata": {
    "scrolled": true
   },
   "outputs": [
    {
     "data": {
      "text/plain": [
       "'UTF-8'"
      ]
     },
     "execution_count": 6,
     "metadata": {},
     "output_type": "execute_result"
    }
   ],
   "source": [
    "r.encoding"
   ]
  },
  {
   "cell_type": "code",
   "execution_count": 7,
   "metadata": {
    "scrolled": true
   },
   "outputs": [],
   "source": [
    "r.encoding = 'utf-8'  # 필요한 인코딩으로 설정 가능(utf-8, euc-kr)"
   ]
  },
  {
   "cell_type": "code",
   "execution_count": 10,
   "metadata": {
    "scrolled": true
   },
   "outputs": [
    {
     "data": {
      "text/plain": [
       "'\\n<!doctype html>                          <html lang=\"ko\" data-dark=\"false\"> <head> <meta charset=\"utf-8\"> <title>NAVER</title> <meta http-equiv=\"X-UA-Compatible\" content=\"IE=edge\"> <meta name=\"viewport\" content=\"width=1190\"> <meta name=\"apple-mobile-web-app-title\" content=\"NAVER\"/> <meta name=\"robo'"
      ]
     },
     "execution_count": 10,
     "metadata": {},
     "output_type": "execute_result"
    }
   ],
   "source": [
    "r.text[:300]  # 지면 관계상 일부만 확인해본다"
   ]
  },
  {
   "cell_type": "code",
   "execution_count": 11,
   "metadata": {
    "scrolled": true
   },
   "outputs": [
    {
     "data": {
      "text/plain": [
       "183615"
      ]
     },
     "execution_count": 11,
     "metadata": {},
     "output_type": "execute_result"
    }
   ],
   "source": [
    "html = r.text \n",
    "open('naver.html', 'w', encoding='utf-8').write(html)"
   ]
  },
  {
   "cell_type": "code",
   "execution_count": 12,
   "metadata": {
    "scrolled": true
   },
   "outputs": [
    {
     "data": {
      "text/plain": [
       "13984"
      ]
     },
     "execution_count": 12,
     "metadata": {},
     "output_type": "execute_result"
    }
   ],
   "source": [
    "import requests\n",
    "\n",
    "url = 'https://abi-laboratory.pro/images/opensource1.png'\n",
    "r = requests.get(url)\n",
    "open('opensource.png', 'wb').write(r.content)"
   ]
  },
  {
   "cell_type": "code",
   "execution_count": null,
   "metadata": {
    "collapsed": true,
    "scrolled": true
   },
   "outputs": [],
   "source": [
    "import requests\n",
    "\n",
    "url = 'http://elearning.kocw.net/document/lec/2011/Kicu/ChaJungSub/01.pdf'\n",
    "r = requests.get(url)\n",
    "open('01.pdf', 'wb').write(r.content)"
   ]
  },
  {
   "cell_type": "code",
   "execution_count": null,
   "metadata": {
    "collapsed": true,
    "scrolled": true
   },
   "outputs": [],
   "source": [
    "import requests\n",
    "\n",
    "url = 'http://jubil2018.cafe24.com/2018/mp3/jubil36/01.mp3'\n",
    "r = requests.get(url)\n",
    "open('jubil36_01.mp3', 'wb').write(r.content)"
   ]
  },
  {
   "cell_type": "code",
   "execution_count": null,
   "metadata": {
    "collapsed": true,
    "scrolled": true
   },
   "outputs": [],
   "source": [
    "import requests\n",
    "\n",
    "r = requests.get('http://releases.ubuntu.com/18.04.1/ubuntu-18.04.1-desktop-amd64.iso', stream=True)\n",
    "\n",
    "with open('ubuntu-18.04.1-desktop-amd64.iso', 'wb') as f:\n",
    "    for chunk in r.iter_content(100000):  # 100k 바이트 단위로 처리한다\n",
    "        f.write(chunk)\n",
    "        print('.', end='', flush=True)    # 진행상황을 화면에 표시한다\n",
    "    print()"
   ]
  },
  {
   "cell_type": "code",
   "execution_count": null,
   "metadata": {
    "collapsed": true,
    "scrolled": true
   },
   "outputs": [],
   "source": [
    "import requests\n",
    "\n",
    "\n",
    "def get_page(stn, yy, mm):\n",
    "    url = f'http://www.weather.go.kr/weather/climate/past_cal.jsp?stn={stn}&yy={yy}&mm={mm}'  # 단계 2\n",
    "    res = requests.get(url)  # 단계 3\n",
    "    return res.text\n",
    "\n",
    "stn = 108  # 단계 1\n",
    "yy = 2008  # 단계 1\n",
    "for mm in range(1, 13):  # 단계 1\n",
    "    html = get_page(stn, yy, mm) # 단계 2-3\n",
    "    fpath = f'w_{stn}_{yy}_{mm}.html'  # 단계 4\n",
    "    open(fpath, 'w', encoding='euc-kr').write(html)  # 단계 5\n",
    "    print(fpath, 'saved')"
   ]
  },
  {
   "cell_type": "code",
   "execution_count": 14,
   "metadata": {},
   "outputs": [
    {
     "name": "stdout",
     "output_type": "stream",
     "text": [
      "Collecting feedparser\n",
      "  Downloading feedparser-6.0.8-py3-none-any.whl (81 kB)\n",
      "Collecting sgmllib3k\n",
      "  Downloading sgmllib3k-1.0.0.tar.gz (5.8 kB)\n",
      "Building wheels for collected packages: sgmllib3k\n",
      "  Building wheel for sgmllib3k (setup.py): started\n",
      "  Building wheel for sgmllib3k (setup.py): finished with status 'done'\n",
      "  Created wheel for sgmllib3k: filename=sgmllib3k-1.0.0-py3-none-any.whl size=6065 sha256=f1074a2afaa2d64a83a0d1921085c59033f2f540d2fd835401c13218f9b9b500\n",
      "  Stored in directory: c:\\users\\tbdud\\appdata\\local\\pip\\cache\\wheels\\83\\63\\2f\\117884c3b19d46b64d3d61690333aa80c88dc14050e269c546\n",
      "Successfully built sgmllib3k\n",
      "Installing collected packages: sgmllib3k, feedparser\n",
      "Successfully installed feedparser-6.0.8 sgmllib3k-1.0.0\n"
     ]
    }
   ],
   "source": [
    "!pip install feedparser"
   ]
  },
  {
   "cell_type": "code",
   "execution_count": 15,
   "metadata": {
    "scrolled": true
   },
   "outputs": [],
   "source": [
    "import feedparser\n",
    "\n",
    "d = feedparser.parse('http://file.mk.co.kr/news/rss/rss_30100041.xml') # 경제 RSS"
   ]
  },
  {
   "cell_type": "code",
   "execution_count": 16,
   "metadata": {
    "scrolled": true
   },
   "outputs": [
    {
     "data": {
      "text/plain": [
       "dict_keys(['bozo', 'entries', 'feed', 'headers', 'etag', 'updated', 'updated_parsed', 'href', 'status', 'encoding', 'bozo_exception', 'version', 'namespaces'])"
      ]
     },
     "execution_count": 16,
     "metadata": {},
     "output_type": "execute_result"
    }
   ],
   "source": [
    "d.keys()"
   ]
  },
  {
   "cell_type": "code",
   "execution_count": 17,
   "metadata": {
    "scrolled": true
   },
   "outputs": [
    {
     "data": {
      "text/plain": [
       "'http://file.mk.co.kr/news/rss/rss_30100041.xml'"
      ]
     },
     "execution_count": 17,
     "metadata": {},
     "output_type": "execute_result"
    }
   ],
   "source": [
    "d['href']"
   ]
  },
  {
   "cell_type": "code",
   "execution_count": 18,
   "metadata": {
    "scrolled": true
   },
   "outputs": [
    {
     "data": {
      "text/plain": [
       "'http://file.mk.co.kr/news/rss/rss_30100041.xml'"
      ]
     },
     "execution_count": 18,
     "metadata": {},
     "output_type": "execute_result"
    }
   ],
   "source": [
    "d.href"
   ]
  },
  {
   "cell_type": "code",
   "execution_count": 19,
   "metadata": {
    "scrolled": true
   },
   "outputs": [
    {
     "data": {
      "text/plain": [
       "'매일경제 : 경제·금융 신문기사'"
      ]
     },
     "execution_count": 19,
     "metadata": {},
     "output_type": "execute_result"
    }
   ],
   "source": [
    "d.feed.title"
   ]
  },
  {
   "cell_type": "code",
   "execution_count": 20,
   "metadata": {
    "scrolled": true
   },
   "outputs": [
    {
     "data": {
      "text/plain": [
       "50"
      ]
     },
     "execution_count": 20,
     "metadata": {},
     "output_type": "execute_result"
    }
   ],
   "source": [
    "len(d.entries)"
   ]
  },
  {
   "cell_type": "code",
   "execution_count": 21,
   "metadata": {
    "scrolled": true
   },
   "outputs": [
    {
     "data": {
      "text/plain": [
       "'\"연내 한국형 해운 운임통계 내놓는다\"'"
      ]
     },
     "execution_count": 21,
     "metadata": {},
     "output_type": "execute_result"
    }
   ],
   "source": [
    "entry = d.entries[0]\n",
    "entry['title']"
   ]
  },
  {
   "cell_type": "code",
   "execution_count": 22,
   "metadata": {
    "scrolled": true
   },
   "outputs": [
    {
     "data": {
      "text/plain": [
       "'https://www.mk.co.kr/news/economy/view/2021/10/967066/'"
      ]
     },
     "execution_count": 22,
     "metadata": {},
     "output_type": "execute_result"
    }
   ],
   "source": [
    "entry['link']"
   ]
  },
  {
   "cell_type": "code",
   "execution_count": 23,
   "metadata": {
    "scrolled": true
   },
   "outputs": [
    {
     "data": {
      "text/plain": [
       "'정부가 최근 전 세계 공급망 붕괴 사태에 대응하기 위해 한국형 컨테이너 운임 통계를 최초로 내놓는다.지난 3월 취임한 임재현 관세청장이 최근 서울본부세관에서 매일경제와 처음으로 언론 인터뷰를 하면서 전 ..'"
      ]
     },
     "execution_count": 23,
     "metadata": {},
     "output_type": "execute_result"
    }
   ],
   "source": [
    "entry['summary']"
   ]
  },
  {
   "cell_type": "code",
   "execution_count": 24,
   "metadata": {
    "scrolled": true
   },
   "outputs": [
    {
     "data": {
      "text/plain": [
       "'2021-10-12T17:50:53+09:00'"
      ]
     },
     "execution_count": 24,
     "metadata": {},
     "output_type": "execute_result"
    }
   ],
   "source": [
    "entry['published']"
   ]
  },
  {
   "cell_type": "code",
   "execution_count": 25,
   "metadata": {
    "scrolled": true
   },
   "outputs": [
    {
     "name": "stdout",
     "output_type": "stream",
     "text": [
      "* 빚투 동학개미 직격탄…은행, 주식대출도 조인다 https://www.mk.co.kr/news/economy/view/2021/10/967062/\n",
      "* 원화값 하락 속도 빨라지자 달러예금 한달새 30억弗 쑥 https://www.mk.co.kr/news/economy/view/2021/10/967056/\n",
      "* 주가·원화값 나란히 급락…열달만에 '7만전자' 무너져 https://www.mk.co.kr/news/economy/view/2021/10/967107/\n",
      "* 빚투 영끌족 날벼락…한은 \"11월 금리 추가 인상 고려\" https://www.mk.co.kr/news/economy/view/2021/10/967090/\n",
      "* 하나銀·BGF리테일, 편의점은행 첫선 https://www.mk.co.kr/news/economy/view/2021/10/967053/\n",
      "* 저축은행서 대출 비교 플랫폼 통한 대출 2년간 20배 늘어 https://www.mk.co.kr/news/economy/view/2021/10/966180/\n",
      "* 이주열 \"임지원·서영경 금통위원 기준금리 0.25%포인트 인상 바람직\" https://www.mk.co.kr/news/economy/view/2021/10/964823/\n",
      "* 이주열 \"경기 예상대로 가면 기준금리 11월 추가인상 고려“ https://www.mk.co.kr/news/economy/view/2021/10/964774/\n",
      "* \"금융시장 불확실성 확대\" 한은, 기준금리 동결 https://www.mk.co.kr/news/economy/view/2021/10/964132/\n",
      "* 대출규제 묶이고, 빅테크에 치이고…고민 깊은 은행들 https://www.mk.co.kr/news/economy/view/2021/10/962902/\n",
      "* \"코인거래소 자금세탁 위험 높아…은행수준으로 검사할 것\" https://www.mk.co.kr/news/economy/view/2021/10/962856/\n",
      "* 신한은행 임원은 3가지가 없다…방 비서 직급 사라져 https://www.mk.co.kr/news/economy/view/2021/10/962851/\n"
     ]
    }
   ],
   "source": [
    "import feedparser\n",
    "\n",
    "d = feedparser.parse('http://file.mk.co.kr/news/rss/rss_30100041.xml') # 경제 RSS\n",
    "for entry in d.entries:\n",
    "    if '은행' in entry['title'] or '은행' in entry['summary']:\n",
    "        print('*', entry['title'], entry['link'])"
   ]
  },
  {
   "cell_type": "code",
   "execution_count": null,
   "metadata": {},
   "outputs": [],
   "source": []
  }
 ],
 "metadata": {
  "kernelspec": {
   "display_name": "Python 3",
   "language": "python",
   "name": "python3"
  },
  "language_info": {
   "codemirror_mode": {
    "name": "ipython",
    "version": 3
   },
   "file_extension": ".py",
   "mimetype": "text/x-python",
   "name": "python",
   "nbconvert_exporter": "python",
   "pygments_lexer": "ipython3",
   "version": "3.8.8"
  }
 },
 "nbformat": 4,
 "nbformat_minor": 1
}
