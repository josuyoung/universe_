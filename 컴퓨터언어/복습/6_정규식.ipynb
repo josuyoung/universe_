{
 "cells": [
  {
   "cell_type": "markdown",
   "id": "70dac2a3",
   "metadata": {},
   "source": [
    "### 정규식(regular expression)"
   ]
  },
  {
   "cell_type": "code",
   "execution_count": 7,
   "id": "7a954870",
   "metadata": {},
   "outputs": [
    {
     "data": {
      "text/plain": [
       "['137', '58', '115', '26']"
      ]
     },
     "execution_count": 7,
     "metadata": {},
     "output_type": "execute_result"
    }
   ],
   "source": [
    " import re\n",
    "    \n",
    "s = '공급137.58m/전용115.26m';\n",
    "re.findall('\\d+',s)"
   ]
  },
  {
   "cell_type": "code",
   "execution_count": 8,
   "id": "d9de5e1d",
   "metadata": {},
   "outputs": [
    {
     "data": {
      "text/plain": [
       "['1', '115.26']"
      ]
     },
     "execution_count": 8,
     "metadata": {},
     "output_type": "execute_result"
    }
   ],
   "source": [
    "re.findall('\\d+\\.?\\d*','공급1m/전용115.26m')"
   ]
  },
  {
   "cell_type": "code",
   "execution_count": 9,
   "id": "5eb7b11b",
   "metadata": {},
   "outputs": [
    {
     "data": {
      "text/plain": [
       "['1', '115.26']"
      ]
     },
     "execution_count": 9,
     "metadata": {},
     "output_type": "execute_result"
    }
   ],
   "source": [
    "re.findall('\\d+\\.{0,1}\\d*','공급1m/전용115.26m')"
   ]
  },
  {
   "cell_type": "markdown",
   "id": "a337a331",
   "metadata": {},
   "source": [
    "#### ? : 0회 or 1회\n",
    "#### + : 1회 이상\n",
    "#### * : 0회 이상\n",
    "#### \\d : 숫자\n",
    "#### . : 임의의 문자\n",
    "#### [] : 문자집합\n",
    "#### [^] 반대 문자 집합\n",
    "####  \\D : 숫자가 아닌것\n",
    "####  \\d : 숫자\n",
    "####  \\s : 공백\n",
    "####  \\S : 공백이 아닌것\n",
    "#### \\w : 숫자, 문자 (특수문자 슬래쉬 . 등은 안됨)\n",
    "####  \\W : 숫자, 문자 x(역슬래쉬 대문자W)\n",
    "#### \\b : 단어 경계가 있는 즉 앞에 띄어쓰기가 있는?정도로 이해하자\n",
    "\n",
    "#### 정규식은 소괄호 안에 것을 리턴해준다 "
   ]
  },
  {
   "cell_type": "code",
   "execution_count": 10,
   "id": "afec723b",
   "metadata": {},
   "outputs": [
    {
     "data": {
      "text/plain": [
       "['137', '58', '115', '26']"
      ]
     },
     "execution_count": 10,
     "metadata": {},
     "output_type": "execute_result"
    }
   ],
   "source": [
    "re.findall('[0-9]+','공급137.58m/전용115.26m')"
   ]
  },
  {
   "cell_type": "code",
   "execution_count": 11,
   "id": "ada4972b",
   "metadata": {},
   "outputs": [
    {
     "data": {
      "text/plain": [
       "['공급137.58', '전용115.26']"
      ]
     },
     "execution_count": 11,
     "metadata": {},
     "output_type": "execute_result"
    }
   ],
   "source": [
    "re.findall('\\w+\\.?\\d+','공급137.58m/전용115.26m')"
   ]
  },
  {
   "cell_type": "markdown",
   "id": "af20df61",
   "metadata": {},
   "source": [
    "그룹 (group)"
   ]
  },
  {
   "cell_type": "code",
   "execution_count": 12,
   "id": "53db1518",
   "metadata": {},
   "outputs": [
    {
     "data": {
      "text/plain": [
       "['137.58', '115.26']"
      ]
     },
     "execution_count": 12,
     "metadata": {},
     "output_type": "execute_result"
    }
   ],
   "source": [
    "re.findall('(\\d+\\.?\\d+)m','공급137.58m/전용115.26m')"
   ]
  },
  {
   "cell_type": "code",
   "execution_count": 92,
   "id": "f90caff9",
   "metadata": {},
   "outputs": [
    {
     "data": {
      "text/plain": [
       "[('137', '.58')]"
      ]
     },
     "execution_count": 92,
     "metadata": {},
     "output_type": "execute_result"
    }
   ],
   "source": [
    "a = re.findall('공급(\\d+)(\\.?\\d+)m','공급137.58m/전용115.26m')#정수 실수 그루핑\n",
    "a\n",
    "\n"
   ]
  },
  {
   "cell_type": "code",
   "execution_count": 59,
   "id": "492328c5",
   "metadata": {},
   "outputs": [
    {
     "name": "stdout",
     "output_type": "stream",
     "text": [
      "<re.Match object; span=(0, 9), match='공급137.58m'>\n"
     ]
    }
   ],
   "source": [
    "li = re.match('공급(\\d+)(\\.?\\d+)m','공급137.58m/전용115.26m')\n",
    "li\n",
    "# findall은 매치가 되는 모든걸 찾지만 match는 해당되는 것 하나만 찾는다."
   ]
  },
  {
   "cell_type": "code",
   "execution_count": 55,
   "id": "09e017ca",
   "metadata": {},
   "outputs": [
    {
     "data": {
      "text/plain": [
       "'공급137.58m'"
      ]
     },
     "execution_count": 55,
     "metadata": {},
     "output_type": "execute_result"
    }
   ],
   "source": [
    "li.group()"
   ]
  },
  {
   "cell_type": "code",
   "execution_count": 16,
   "id": "c6da4ecf",
   "metadata": {},
   "outputs": [
    {
     "data": {
      "text/plain": [
       "<re.Match object; span=(0, 9), match='공급137.58m'>"
      ]
     },
     "execution_count": 16,
     "metadata": {},
     "output_type": "execute_result"
    }
   ],
   "source": [
    "li = re.match('공급(\\d+)(\\.?\\d+)m','공급137.58m/전용115.26m')\n",
    "li"
   ]
  },
  {
   "cell_type": "code",
   "execution_count": 17,
   "id": "8e0f5983",
   "metadata": {},
   "outputs": [
    {
     "data": {
      "text/plain": [
       "('137', '.58')"
      ]
     },
     "execution_count": 17,
     "metadata": {},
     "output_type": "execute_result"
    }
   ],
   "source": [
    "li.groups()"
   ]
  },
  {
   "cell_type": "code",
   "execution_count": 18,
   "id": "f8df5d13",
   "metadata": {},
   "outputs": [
    {
     "data": {
      "text/plain": [
       "'137'"
      ]
     },
     "execution_count": 18,
     "metadata": {},
     "output_type": "execute_result"
    }
   ],
   "source": [
    "li.groups()[0]"
   ]
  },
  {
   "cell_type": "code",
   "execution_count": 19,
   "id": "866f0434",
   "metadata": {},
   "outputs": [
    {
     "data": {
      "text/plain": [
       "'공급137.58m'"
      ]
     },
     "execution_count": 19,
     "metadata": {},
     "output_type": "execute_result"
    }
   ],
   "source": [
    "li.group() #group(1) "
   ]
  },
  {
   "cell_type": "code",
   "execution_count": 20,
   "id": "9553a5ce",
   "metadata": {},
   "outputs": [
    {
     "data": {
      "text/plain": [
       "(0, 9)"
      ]
     },
     "execution_count": 20,
     "metadata": {},
     "output_type": "execute_result"
    }
   ],
   "source": [
    "li.span()  #범위 확인 "
   ]
  },
  {
   "cell_type": "code",
   "execution_count": 95,
   "id": "375ebbc2",
   "metadata": {},
   "outputs": [
    {
     "data": {
      "text/plain": [
       "137.58"
      ]
     },
     "execution_count": 95,
     "metadata": {},
     "output_type": "execute_result"
    }
   ],
   "source": [
    "li = re.match('공급(\\d+\\.?\\d+)m','공급137.58m/전용115.26m')\n",
    "#li.group()\n",
    "float(li.group(1))"
   ]
  },
  {
   "cell_type": "code",
   "execution_count": 22,
   "id": "ef0b553d",
   "metadata": {},
   "outputs": [
    {
     "data": {
      "text/plain": [
       "115.26"
      ]
     },
     "execution_count": 22,
     "metadata": {},
     "output_type": "execute_result"
    }
   ],
   "source": [
    "li = re.match('.*전용(\\d+\\.?\\d+)m','공급137.58m/전용115.26m')\n",
    "float(li.group(1))"
   ]
  },
  {
   "cell_type": "markdown",
   "id": "e6acc02e",
   "metadata": {},
   "source": [
    "search"
   ]
  },
  {
   "cell_type": "code",
   "execution_count": 2,
   "id": "e3a6ffa8",
   "metadata": {},
   "outputs": [
    {
     "ename": "NameError",
     "evalue": "name 're' is not defined",
     "output_type": "error",
     "traceback": [
      "\u001b[1;31m---------------------------------------------------------------------------\u001b[0m",
      "\u001b[1;31mNameError\u001b[0m                                 Traceback (most recent call last)",
      "\u001b[1;32m<ipython-input-2-5f93bfbc2ab0>\u001b[0m in \u001b[0;36m<module>\u001b[1;34m\u001b[0m\n\u001b[1;32m----> 1\u001b[1;33m \u001b[0mre\u001b[0m\u001b[1;33m.\u001b[0m\u001b[0msearch\u001b[0m\u001b[1;33m(\u001b[0m\u001b[1;34m'전용(\\d+\\.?\\d+)m'\u001b[0m\u001b[1;33m,\u001b[0m\u001b[1;34m'공급137.58m/전용115.26m'\u001b[0m\u001b[1;33m)\u001b[0m\u001b[1;33m.\u001b[0m\u001b[0mgroup\u001b[0m\u001b[1;33m(\u001b[0m\u001b[1;36m1\u001b[0m\u001b[1;33m)\u001b[0m\u001b[1;33m\u001b[0m\u001b[1;33m\u001b[0m\u001b[0m\n\u001b[0m",
      "\u001b[1;31mNameError\u001b[0m: name 're' is not defined"
     ]
    }
   ],
   "source": [
    "re.search('전용(\\d+\\.?\\d+)m','공급137.58m/전용115.26m').group(1)\n"
   ]
  },
  {
   "cell_type": "markdown",
   "id": "be42c43b",
   "metadata": {},
   "source": [
    "sub"
   ]
  },
  {
   "cell_type": "code",
   "execution_count": 24,
   "id": "c697a15f",
   "metadata": {},
   "outputs": [],
   "source": [
    "s = ''' Alice was beginning to get very tired of sitting by her \n",
    "sister on the bank, and of having noting to do: once or twice she had\n",
    "peeped into the book her sister was reading but\n",
    "\n",
    "'''"
   ]
  },
  {
   "cell_type": "code",
   "execution_count": 25,
   "id": "b7be1856",
   "metadata": {},
   "outputs": [
    {
     "name": "stdout",
     "output_type": "stream",
     "text": [
      " Alice was beginning to get very tired of sitting by her sister on the bank and of having noting to do once or twice she had peeped into the book her sister was reading but \n"
     ]
    }
   ],
   "source": [
    "print(re.sub('[^a-zA-Z]+',' ',s))"
   ]
  },
  {
   "cell_type": "code",
   "execution_count": 26,
   "id": "e0f43fa5",
   "metadata": {},
   "outputs": [],
   "source": [
    "s = \"한국어에서 학력은 학력(學歷)과 학력(學力)의 두 가지 뜻으로 쓰인다. 라이코스 국어사전에서.\""
   ]
  },
  {
   "cell_type": "code",
   "execution_count": 27,
   "id": "0feaf6aa",
   "metadata": {},
   "outputs": [
    {
     "data": {
      "text/plain": [
       "'            (學歷)    (學力)              .            .'"
      ]
     },
     "execution_count": 27,
     "metadata": {},
     "output_type": "execute_result"
    }
   ],
   "source": [
    "re.sub('[가-힣]',' ' , s)"
   ]
  },
  {
   "cell_type": "code",
   "execution_count": 28,
   "id": "04f8a085",
   "metadata": {},
   "outputs": [
    {
     "data": {
      "text/plain": [
       "'한국어에서 학력은 학력(  )과 학력(  )의 두 가지 뜻으로 쓰인다. 라이코스 국어사전에서.'"
      ]
     },
     "execution_count": 28,
     "metadata": {},
     "output_type": "execute_result"
    }
   ],
   "source": [
    "re.sub('[一-籲]',' ' , s)"
   ]
  },
  {
   "cell_type": "code",
   "execution_count": 29,
   "id": "32f4e4d3",
   "metadata": {},
   "outputs": [],
   "source": [
    "s = \"한국어에서 학력은 학력學歷과 학력學力의 두 가지 뜻으로 쓰인다. 라이코스 국어사전에서.\""
   ]
  },
  {
   "cell_type": "code",
   "execution_count": 30,
   "id": "baa1c97e",
   "metadata": {},
   "outputs": [
    {
     "data": {
      "text/plain": [
       "31858"
      ]
     },
     "execution_count": 30,
     "metadata": {},
     "output_type": "execute_result"
    }
   ],
   "source": [
    "ord('籲') "
   ]
  },
  {
   "cell_type": "code",
   "execution_count": 31,
   "id": "fd18d21e",
   "metadata": {},
   "outputs": [
    {
     "data": {
      "text/plain": [
       "'籲'"
      ]
     },
     "execution_count": 31,
     "metadata": {},
     "output_type": "execute_result"
    }
   ],
   "source": [
    "chr(31858)"
   ]
  },
  {
   "cell_type": "code",
   "execution_count": 32,
   "id": "eba0f796",
   "metadata": {},
   "outputs": [
    {
     "data": {
      "text/plain": [
       "'龥'"
      ]
     },
     "execution_count": 32,
     "metadata": {},
     "output_type": "execute_result"
    }
   ],
   "source": [
    "chr(40869)"
   ]
  },
  {
   "cell_type": "code",
   "execution_count": 33,
   "id": "0030dc9d",
   "metadata": {},
   "outputs": [
    {
     "data": {
      "text/plain": [
       "'한국어에서 학력은 학력<hanja>學歷</hanja>과 학력<hanja>學力</hanja>의 두 가지 뜻으로 쓰인다. 라이코스 국어사전에서.'"
      ]
     },
     "execution_count": 33,
     "metadata": {},
     "output_type": "execute_result"
    }
   ],
   "source": [
    "def f(m):\n",
    "    return \"<hanja>{}</hanja>\".format(m.group())\n",
    "    \n",
    "li = re.sub('[一-籲]+',f, s)\n",
    "li"
   ]
  },
  {
   "cell_type": "code",
   "execution_count": 67,
   "id": "98236744",
   "metadata": {},
   "outputs": [],
   "source": [
    "s = '야곱과 에서는 집에서 나와 들로 나갔습니다.'\n"
   ]
  },
  {
   "cell_type": "code",
   "execution_count": 73,
   "id": "1bb85940",
   "metadata": {},
   "outputs": [
    {
     "data": {
      "text/plain": [
       "'<person>야곱</person>과 <person>에서</person>는 집에서 나와 들로 나갔습니다.'"
      ]
     },
     "execution_count": 73,
     "metadata": {},
     "output_type": "execute_result"
    }
   ],
   "source": [
    "def f(m):\n",
    "    return \"<person>{}</person>\".format(m.group())\n",
    "re.sub(r'\\b야곱|\\b에서',f , s)   # or \\\\b 서식문자로 인식하기에"
   ]
  },
  {
   "cell_type": "code",
   "execution_count": 74,
   "id": "8b001510",
   "metadata": {},
   "outputs": [
    {
     "name": "stdout",
     "output_type": "stream",
     "text": [
      "abc\b\n"
     ]
    }
   ],
   "source": [
    "print(\"abc\\b\")"
   ]
  },
  {
   "cell_type": "code",
   "execution_count": 87,
   "id": "b5bb1546",
   "metadata": {},
   "outputs": [
    {
     "data": {
      "text/plain": [
       "'야곱|에서'"
      ]
     },
     "execution_count": 87,
     "metadata": {},
     "output_type": "execute_result"
    }
   ],
   "source": [
    "people = [\"야곱\",\"에서\"]\n",
    "\n",
    "'|'.join(people)"
   ]
  },
  {
   "cell_type": "code",
   "execution_count": 88,
   "id": "42875a10",
   "metadata": {},
   "outputs": [
    {
     "data": {
      "text/plain": [
       "'야곱hello에서'"
      ]
     },
     "execution_count": 88,
     "metadata": {},
     "output_type": "execute_result"
    }
   ],
   "source": [
    "\n",
    "exp = '|'.join(['\\\\b'+e for e in people])\n",
    "exp\n"
   ]
  },
  {
   "cell_type": "code",
   "execution_count": 81,
   "id": "f3d33c1c",
   "metadata": {},
   "outputs": [
    {
     "data": {
      "text/plain": [
       "'<person>야곱</person>과 <person>에서</person>는 집에서 나와 들로 나갔습니다.'"
      ]
     },
     "execution_count": 81,
     "metadata": {},
     "output_type": "execute_result"
    }
   ],
   "source": [
    "re.sub(exp,f,s)"
   ]
  },
  {
   "cell_type": "markdown",
   "id": "d16636ca",
   "metadata": {},
   "source": [
    "split"
   ]
  },
  {
   "cell_type": "code",
   "execution_count": 90,
   "id": "05212693",
   "metadata": {},
   "outputs": [
    {
     "data": {
      "text/plain": [
       "['한국어에서 학력은 학력', '과 학력', '의 두 가지 뜻으로 쓰인다. 라이코스 국어사전에서.']"
      ]
     },
     "execution_count": 90,
     "metadata": {},
     "output_type": "execute_result"
    }
   ],
   "source": [
    "s = \"한국어에서 학력은 학력學歷과 학력學力의 두 가지 뜻으로 쓰인다. 라이코스 국어사전에서.\"\n",
    "re.split('[一-籲]+',s)"
   ]
  },
  {
   "cell_type": "code",
   "execution_count": null,
   "id": "7e5d248b",
   "metadata": {},
   "outputs": [],
   "source": []
  }
 ],
 "metadata": {
  "kernelspec": {
   "display_name": "Python 3",
   "language": "python",
   "name": "python3"
  },
  "language_info": {
   "codemirror_mode": {
    "name": "ipython",
    "version": 3
   },
   "file_extension": ".py",
   "mimetype": "text/x-python",
   "name": "python",
   "nbconvert_exporter": "python",
   "pygments_lexer": "ipython3",
   "version": "3.8.8"
  }
 },
 "nbformat": 4,
 "nbformat_minor": 5
}
